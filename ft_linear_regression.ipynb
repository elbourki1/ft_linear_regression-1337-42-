{
 "cells": [
  {
   "cell_type": "code",
   "execution_count": 62,
   "metadata": {},
   "outputs": [],
   "source": [
    "import numpy as np\n",
    "import pandas as pd\n",
    "import matplotlib.pyplot as plt\n",
    "from sklearn.preprocessing import MinMaxScaler\n",
    "from numpy.linalg import inv\n",
    "from math import *"
   ]
  },
  {
   "cell_type": "code",
   "execution_count": 63,
   "metadata": {},
   "outputs": [],
   "source": [
    "data = pd.read_csv('data.csv')"
   ]
  },
  {
   "cell_type": "markdown",
   "metadata": {},
   "source": [
    "# using my code in ML bootcamp"
   ]
  },
  {
   "cell_type": "code",
   "execution_count": 65,
   "metadata": {},
   "outputs": [],
   "source": [
    "class MyLinearRegression(object):\n",
    "    \"\"\"    Description:        My personnal linear regression class to fit like a boss.   \n",
    "    \"\"\"\n",
    "    def __init__(self, theta):\n",
    "        \"\"\"     Description:\n",
    "        generator of the class, initialize self.\n",
    "        Args:\n",
    "            theta: has to be a list or a numpy array,\n",
    "            it is a vector ofdimension (number of features + 1, 1).\n",
    "            Raises:\n",
    "           This method should noot raise any Exception.        \n",
    "        \"\"\"\n",
    "        if (not isinstance(theta, list) and not isinstance(theta, np.ndarray)\n",
    "        and theta.shape[1] != 1):\n",
    "            print(\"error\")\n",
    "        if isinstance(theta, list):\n",
    "            theta = np.array(theta).reshape(-1,1)\n",
    "        self.theta = theta\n",
    "    def setTheta(self, theta):\n",
    "        if (not isinstance(theta, list) and not isinstance(theta, np.ndarray)\n",
    "        and theta.shape[1] != 1):\n",
    "            print(\"error\")\n",
    "        if isinstance(theta, list):\n",
    "            theta = np.array(theta)\n",
    "        self.theta = theta\t\n",
    "    def\tconcat(self, X):\n",
    "        M = X.shape[0]\n",
    "        ones = np.ones((M,1))\n",
    "        X = np.concatenate((ones,X),axis=1)\n",
    "        return X\n",
    "    def predict_(self, X):\n",
    "        X = self.concat(X)\n",
    "        return X.dot(self.theta)\n",
    "    def cost_elem_(self, X, Y):\n",
    "        M = Y.shape[0]\n",
    "        pred = X.dot(self.theta)\n",
    "        return np.power((pred - Y),2,dtype=float) * (0.5 / M)\n",
    "    def cost_(self, X, Y):\n",
    "        return float(sum(self.cost_elem_(X, Y)))\n",
    "    def grad_(self, error, X):\n",
    "        X = self.concat(X)\n",
    "        return (X.transpose()).dot(error)\n",
    "    def mse_(self,X, Y):\n",
    "        error = X.dot(self.theta) - Y\n",
    "        M = float(Y.shape[0])\n",
    "        return float(sum(np.power(error,2,dtype=float)) / M)\n",
    "    def fit_(self, X, Y, alpha=1.6e-4,n_cycle=1000000):\n",
    "        M = Y.shape[0]\n",
    "        X = self.concat(X)\n",
    "        for i in range(int(n_cycle)):\n",
    "            error = X.dot(self.theta) - Y\n",
    "            grad = (X.transpose()).dot(error)\n",
    "            self.theta = self.theta - alpha * (1. / M ) * 0.5 * grad\n",
    "            if i % 1000 == 0:\n",
    "                print(\"cost: {}\".format(self.mse_(X, Y)),end='\\r')\n",
    "        return self.theta\n",
    "    def normalequation_(self, X, Y):\n",
    "        X = self.concat(X)\n",
    "        X_t = X.transpose()\n",
    "        xx_t = X_t.dot(X).astype(np.int)\n",
    "        X_ty = X_t.dot(Y)\n",
    "        xx_ti = inv(xx_t)\n",
    "        print(self.theta.shape)\n",
    "        self.theta = (xx_ti.transpose()).dot(X_ty)\n",
    "        print(self.theta.shape)\n",
    "        return self.theta\n",
    "    def rmse_(self, X, Y):\n",
    "        return float(sqrt(self.mse_(X,Y)))\n",
    "    def r2score_(self, X, Y):\n",
    "        Yp = self.predict_(X)\n",
    "        meanY = np.mean(Y)\n",
    "        SStot = np.power(Y - meanY, 2,dtype=float)\n",
    "        SSres = np.power(Y - Yp, 2,dtype=float)\n",
    "        return float(1 - float(SSres / SStot))"
   ]
  },
  {
   "cell_type": "code",
   "execution_count": 66,
   "metadata": {},
   "outputs": [],
   "source": [
    "theta = np.random.randn(2,1)*np.sqrt(2./x.shape[0]) # he init"
   ]
  },
  {
   "cell_type": "code",
   "execution_count": 67,
   "metadata": {},
   "outputs": [
    {
     "data": {
      "text/plain": [
       "array([[-0.35154564],\n",
       "       [-0.25887151]])"
      ]
     },
     "execution_count": 67,
     "metadata": {},
     "output_type": "execute_result"
    }
   ],
   "source": [
    "theta"
   ]
  },
  {
   "cell_type": "code",
   "execution_count": 68,
   "metadata": {},
   "outputs": [],
   "source": [
    "mo = MyLinearRegression(theta)"
   ]
  },
  {
   "cell_type": "code",
   "execution_count": 69,
   "metadata": {},
   "outputs": [],
   "source": [
    "x = data['km'].values.reshape(-1,1)\n",
    "y = data['price'].values.reshape(-1,1)"
   ]
  },
  {
   "cell_type": "markdown",
   "metadata": {},
   "source": [
    "scale data f"
   ]
  },
  {
   "cell_type": "code",
   "execution_count": 70,
   "metadata": {},
   "outputs": [],
   "source": [
    "scaler = MinMaxScaler()\n",
    "scaler = scaler.fit(x)\n",
    "x = scaler.transform(x)\n",
    "scaler = scaler.fit(y)\n",
    "y = scaler.transform(y)"
   ]
  },
  {
   "cell_type": "code",
   "execution_count": 59,
   "metadata": {},
   "outputs": [
    {
     "name": "stdout",
     "output_type": "stream",
     "text": [
      "cost: 0.020737750505224525\r"
     ]
    },
    {
     "data": {
      "text/plain": [
       "array([[ 0.92948376],\n",
       "       [-0.97761569]])"
      ]
     },
     "execution_count": 59,
     "metadata": {},
     "output_type": "execute_result"
    }
   ],
   "source": [
    "mo.fit_(x,y)"
   ]
  },
  {
   "cell_type": "code",
   "execution_count": 60,
   "metadata": {},
   "outputs": [],
   "source": [
    "y_pred = mo.predict_(x)"
   ]
  },
  {
   "cell_type": "code",
   "execution_count": 74,
   "metadata": {},
   "outputs": [
    {
     "data": {
      "image/png": "[encoded data removed]",
      "text/plain": [
       "<Figure size 432x288 with 1 Axes>"
      ]
     },
     "metadata": {
      "needs_background": "light"
     },
     "output_type": "display_data"
    }
   ],
   "source": [
    "plot1 = plt.plot(x, y, marker='o',linestyle='None')\n",
    "plot2 = plt.plot(x, y_pred)\n",
    "plt.xlabel('Quantity')\n",
    "plt.ylabel('Space Driveing Score')\n",
    "plt.legend({'pred':'true','true':'false'})\n",
    "plt.show()"
   ]
  },
  {
   "cell_type": "code",
   "execution_count": null,
   "metadata": {},
   "outputs": [],
   "source": []
  }
 ],
 "metadata": {
  "kernelspec": {
   "display_name": "Python 3",
   "language": "python",
   "name": "python3"
  },
  "language_info": {
   "codemirror_mode": {
    "name": "ipython",
    "version": 3
   },
   "file_extension": ".py",
   "mimetype": "text/x-python",
   "name": "python",
   "nbconvert_exporter": "python",
   "pygments_lexer": "ipython3",
   "version": "3.7.6"
  }
 },
 "nbformat": 4,
 "nbformat_minor": 4
}
